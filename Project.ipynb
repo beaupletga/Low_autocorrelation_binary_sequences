{
 "cells": [
  {
   "cell_type": "code",
   "execution_count": 23,
   "metadata": {},
   "outputs": [],
   "source": [
    "import numpy as np\n",
    "from scipy.optimize import minimize,differential_evolution\n",
    "import random\n",
    "import itertools\n",
    "random.seed(1)\n",
    "np.random.seed(1)"
   ]
  },
  {
   "cell_type": "code",
   "execution_count": 24,
   "metadata": {},
   "outputs": [],
   "source": [
    "def correlations(sequence,k):\n",
    "    return np.sum([sequence[i]*sequence[i+k] for i in range(0,len(sequence)-k)])\n",
    "\n",
    "def energy(sequence):\n",
    "    return np.sum([correlations(sequence,k)**2 for k in range(1,len(sequence))])\n",
    "    \n",
    "def merit_factor(sequence):\n",
    "    return len(sequence)**2/(2*energy(sequence))\n",
    "\n",
    "def generate_sequence(N):        \n",
    "    return [1 if np.random.rand()>0.5 else -1 for i in range(N)]\n",
    "\n",
    "def get_nb_swap(sequence):\n",
    "    return np.sum([1 for i in range(len(sequence)-1) if sequence[i]!=sequence[i+1]])\n",
    "\n",
    "def is_valid(sequence):\n",
    "    for i in range(1,len(sequence)):\n",
    "        nb_dif=np.sum(np.array([abs(sequence[j+i]-sequence[j]) for j in range(len(sequence)-i)])>0)\n",
    "        if (nb_dif!=np.ceil((len(sequence)-i)/2)):\n",
    "            return False\n",
    "    return True\n",
    "\n",
    "def is_valid2(sequence):\n",
    "    nb_dif=0\n",
    "    nb_ceil=0\n",
    "    for i in range(1,len(sequence)):\n",
    "        nb_dif+=np.sum(np.array([abs(sequence[j+i]-sequence[j]) for j in range(len(sequence)-i)])>0)\n",
    "        nb_ceil+=np.ceil((len(sequence)-i)/2)\n",
    "    return abs(nb_ceil-nb_dif)\n",
    "\n",
    "def is_valid3(sequence):\n",
    "    diff=0\n",
    "    for i in range(1,len(sequence)):\n",
    "        nb_dif=np.sum(np.array([sequence[j+i]-sequence[j] for j in range(len(sequence)-i)])!=0)\n",
    "        diff+=(nb_dif-np.ceil((len(sequence)-i)/2))**2\n",
    "    return diff"
   ]
  },
  {
   "cell_type": "code",
   "execution_count": 150,
   "metadata": {},
   "outputs": [
    {
     "data": {
      "text/plain": [
       "54.0"
      ]
     },
     "execution_count": 150,
     "metadata": {},
     "output_type": "execute_result"
    }
   ],
   "source": [
    "a=generate_sequence(23)\n",
    "is_valid3(a)"
   ]
  },
  {
   "cell_type": "code",
   "execution_count": 181,
   "metadata": {},
   "outputs": [
    {
     "name": "stdout",
     "output_type": "stream",
     "text": [
      "let's go\n"
     ]
    },
    {
     "data": {
      "text/plain": [
       "(228.3730397749303, 1.6333333333333333, False)"
      ]
     },
     "execution_count": 181,
     "metadata": {},
     "output_type": "execute_result"
    }
   ],
   "source": [
    "from scipy.optimize import fsolve\n",
    "def hope(sequence):\n",
    "    bb=[0]\n",
    "    for i in range(1,len(sequence),1):\n",
    "        nb_dif=np.sum(np.array([(sequence[j+i]-sequence[j])**2 for j in range(0,len(sequence)-i)]))\n",
    "        bb.append(nb_dif-np.ceil((len(sequence)-i)/2))\n",
    "    return bb\n",
    "\n",
    "seq=generate_sequence(63)\n",
    "print(\"let's go\")\n",
    "a=fsolve(hope,seq).tolist()\n",
    "merit_factor(a),merit_factor([-1 if i<0 else 1 for i in a]),is_valid(seq)"
   ]
  },
  {
   "cell_type": "code",
   "execution_count": 4,
   "metadata": {},
   "outputs": [],
   "source": []
  },
  {
   "cell_type": "code",
   "execution_count": null,
   "metadata": {},
   "outputs": [],
   "source": [
    "seq=generate_sequence(5)\n",
    "a=np.zeros((len(seq)-1,len(seq)-1))\n",
    "for i in range(1,len(sequence),1):\n",
    "    for j in range(0,len(seq)-i):\n",
    "        a[i-1,j]="
   ]
  },
  {
   "cell_type": "code",
   "execution_count": 195,
   "metadata": {},
   "outputs": [
    {
     "data": {
      "text/plain": [
       "1.9028776978417266"
      ]
     },
     "execution_count": 195,
     "metadata": {},
     "output_type": "execute_result"
    }
   ],
   "source": []
  },
  {
   "cell_type": "code",
   "execution_count": null,
   "metadata": {},
   "outputs": [],
   "source": [
    "# Summary :\n",
    "    \n",
    "# 1- Using only ones, half -1 and half 1\n",
    "# 2- Continuous optimization and rounding\n",
    "# 3- RLS (with values change)\n",
    "# 4- EA\n",
    "# 5- Simulated anealing\n",
    "# 6- Genetic (with and without crossover, various population size and mutation rate)\n",
    "# 7- Machine learning (deep learning)\n",
    "# 8- Quantum "
   ]
  },
  {
   "cell_type": "code",
   "execution_count": 95,
   "metadata": {},
   "outputs": [
    {
     "data": {
      "text/plain": [
       "385.0"
      ]
     },
     "execution_count": 95,
     "metadata": {},
     "output_type": "execute_result"
    }
   ],
   "source": [
    "N=11\n",
    "(N-1)*N**2+((N-1)*N*(2*(N-1)+1))/6-2*N*(N-1)*N*0.5"
   ]
  },
  {
   "cell_type": "code",
   "execution_count": 6,
   "metadata": {},
   "outputs": [
    {
     "data": {
      "text/plain": [
       "0.015195938456584325"
      ]
     },
     "execution_count": 6,
     "metadata": {},
     "output_type": "execute_result"
    }
   ],
   "source": [
    "q=generate_sequence(1500)\n",
    "# correlations(q,5)\n",
    "merit_factor(q)"
   ]
  },
  {
   "cell_type": "code",
   "execution_count": 32,
   "metadata": {},
   "outputs": [],
   "source": [
    "def generate_sequence2(N):\n",
    "    seq=[-1]\n",
    "    for i in range(N-1):\n",
    "        if np.random.rand()>0.3:\n",
    "            seq.append(-seq[-1])\n",
    "        else:\n",
    "            seq.append(seq[-1])\n",
    "            \n",
    "    return seq"
   ]
  },
  {
   "cell_type": "code",
   "execution_count": 57,
   "metadata": {},
   "outputs": [
    {
     "data": {
      "text/plain": [
       "(2.380952380952381, 2.380952380952381)"
      ]
     },
     "execution_count": 57,
     "metadata": {},
     "output_type": "execute_result"
    }
   ],
   "source": [
    "merit_factor(generate_sequence2(10)),merit_factor(generate_sequence(10))"
   ]
  },
  {
   "cell_type": "code",
   "execution_count": 173,
   "metadata": {},
   "outputs": [],
   "source": [
    "N=100\n",
    "# sequence=generate_sequence(N)\n",
    "# sequence=list(\"000101010010011010100101111101001011101100100111001001101101101000101010110010001011110111001111111101111000111001110010011100111011110000101000011111100111000000010\")\n",
    "sequence=list(\"001110000111001010111101110111010000001101101001001\")\n",
    "\n",
    "sequence=[-1 if i=='0' else 1 for i in sequence]\n",
    "# energy(sequence)\n",
    "# merit_factor(sequence)"
   ]
  },
  {
   "cell_type": "code",
   "execution_count": 193,
   "metadata": {},
   "outputs": [
    {
     "data": {
      "text/plain": [
       "-0.026083112290008842"
      ]
     },
     "execution_count": 193,
     "metadata": {},
     "output_type": "execute_result"
    }
   ],
   "source": [
    "res = minimize(merit_factor,x0=generate_sequence(59), bounds=[(-1,1) for i in range(59)])\n",
    "merit_factor([-1 if res.x[i]<0.5 else 1 for i in range(len(res.x))])"
   ]
  },
  {
   "cell_type": "code",
   "execution_count": 192,
   "metadata": {},
   "outputs": [
    {
     "data": {
      "text/plain": [
       "array([0.5, 0.5, 0.5, 0.5, 0.5, 0.5, 0.5, 0.5, 0.5, 0.5, 0.5, 0.5, 0.5,\n",
       "       0.5, 0.5, 0.5, 0.5, 0.5, 0.5, 0.5, 0.5, 0.5, 0.5, 0.5, 0.5, 0.5,\n",
       "       0.5, 0.5, 0.5, 0.5, 0.5, 0.5, 0.5, 0.5, 0.5, 0.5, 0.5, 0.5, 0.5,\n",
       "       0.5, 0.5, 0.5, 0.5, 0.5, 0.5, 0.5, 0.5, 0.5, 0.5, 0.5, 0.5, 0.5,\n",
       "       0.5, 0.5, 0.5, 0.5, 0.5, 0.5, 0.5])"
      ]
     },
     "execution_count": 192,
     "metadata": {},
     "output_type": "execute_result"
    }
   ],
   "source": [
    "res.x"
   ]
  },
  {
   "cell_type": "code",
   "execution_count": 7,
   "metadata": {},
   "outputs": [],
   "source": [
    "def sbm(x):\n",
    "    index_flip=int(np.random.rand()*len(x))\n",
    "    y=x[:]\n",
    "    y[index_flip]=-y[index_flip]\n",
    "    return y"
   ]
  },
  {
   "cell_type": "code",
   "execution_count": 10,
   "metadata": {},
   "outputs": [
    {
     "name": "stdout",
     "output_type": "stream",
     "text": [
      "3.0402298850574714\n"
     ]
    }
   ],
   "source": [
    "def RLS(N):\n",
    "    np.random.seed(1)\n",
    "    x=generate_sequence(N)\n",
    "    for i in range(100000):\n",
    "        y=sbm(x)\n",
    "        if merit_factor(y)>=merit_factor(x):\n",
    "            x=y[:]\n",
    "    print(merit_factor(x))    \n",
    "\n",
    "RLS(23)"
   ]
  },
  {
   "cell_type": "code",
   "execution_count": 85,
   "metadata": {},
   "outputs": [
    {
     "name": "stdout",
     "output_type": "stream",
     "text": [
      "4.483050847457627\n"
     ]
    }
   ],
   "source": [
    "def EA(N,p):\n",
    "    random.seed(1)\n",
    "    np.random.seed(1)\n",
    "    x=generate_sequence(N)\n",
    "    fx=merit_factor(x)\n",
    "    no_change=0\n",
    "    best_sol=0\n",
    "    for i in range(10000):\n",
    "        y=[-x[i] if np.random.rand()<p else x[i] for i in range(N)]\n",
    "        fy=merit_factor(y)\n",
    "        if fy>=fx:\n",
    "            x=y[:]\n",
    "            fx=fy\n",
    "        if fy>best_sol:\n",
    "            best_sol=fy\n",
    "    return(best_sol)\n",
    "\n",
    "for i in range(23,24):\n",
    "    print(EA(i,1/(i)))\n",
    "    \n",
    "#         if fy==fx:\n",
    "#             if no_change==20:\n",
    "#                 x=[-x[i] for i in range(N)]\n",
    "#                 fx=merit_factor(x)\n",
    "#                 no_change=0\n",
    "#                 continue\n",
    "#             no_change+=1"
   ]
  },
  {
   "cell_type": "code",
   "execution_count": 86,
   "metadata": {},
   "outputs": [
    {
     "name": "stdout",
     "output_type": "stream",
     "text": [
      "4.198412698412699\n"
     ]
    }
   ],
   "source": [
    "def EA(N,p):\n",
    "    np.random.seed(1)\n",
    "    x=generate_sequence(N)\n",
    "#     print(get_nb_swap(x))\n",
    "    fx=-1*is_valid3(x)\n",
    "    for i in range(10000):\n",
    "        y=[-x[i] if np.random.rand()<p else x[i] for i in range(N)]\n",
    "        fy=-1*is_valid3(y)\n",
    "        if fy>fx:\n",
    "            x=y[:]\n",
    "            fx=fy\n",
    "    return(merit_factor(x))\n",
    "\n",
    "for i in range(23,24):\n",
    "    print(EA(i,1/(i)))"
   ]
  },
  {
   "cell_type": "code",
   "execution_count": 157,
   "metadata": {},
   "outputs": [
    {
     "name": "stdout",
     "output_type": "stream",
     "text": [
      "1 (4.400221729490022, 4.400221729490022)\n"
     ]
    }
   ],
   "source": [
    "def simulated_annealing(N,nb_of_flip,nb_iterations,t_max):\n",
    "    random.seed(1)\n",
    "    np.random.seed(1)\n",
    "    x=generate_sequence(N)\n",
    "    t=1\n",
    "    t_max=t_max\n",
    "    best_solution=x\n",
    "    best_solution_merit=-np.inf\n",
    "    fx=merit_factor(x)\n",
    "    for i in range(nb_iterations):\n",
    "        index_flip=set([int(np.random.rand()*N) for i in range(nb_of_flip)])\n",
    "        y=x[:]\n",
    "        y=[y[i] if i not in index_flip else -y[i] for i in range(0,N)]\n",
    "        \n",
    "        fy=merit_factor(y)\n",
    "        if fy>=fx:\n",
    "            x=y[:]\n",
    "            fx=fy\n",
    "            if fx>best_solution_merit:\n",
    "                best_solution=y[:]\n",
    "                best_solution_merit=fy\n",
    "        elif np.random.rand()<=np.exp((fy-fx)*t):\n",
    "            x=y[:]\n",
    "            fx=fy\n",
    "        t+=t_max/nb_iterations\n",
    "    return merit_factor(best_solution),best_solution_merit\n",
    "\n",
    "i=1\n",
    "# while i<25:\n",
    "print(i,simulated_annealing(63,nb_of_flip=2,nb_iterations=1000,t_max=15))\n",
    "#     i+=0.5"
   ]
  },
  {
   "cell_type": "code",
   "execution_count": 88,
   "metadata": {},
   "outputs": [
    {
     "name": "stdout",
     "output_type": "stream",
     "text": [
      "-126.0 200\n",
      "-114.0 200\n",
      "-106.0 200\n",
      "-86.0 200\n",
      "-86.0 200\n",
      "-86.0 200\n",
      "-86.0 200\n"
     ]
    },
    {
     "ename": "KeyboardInterrupt",
     "evalue": "",
     "output_type": "error",
     "traceback": [
      "\u001b[0;31m---------------------------------------------------------------------------\u001b[0m",
      "\u001b[0;31mKeyboardInterrupt\u001b[0m                         Traceback (most recent call last)",
      "\u001b[0;32m<ipython-input-88-3effcb3384d0>\u001b[0m in \u001b[0;36m<module>\u001b[0;34m\u001b[0m\n\u001b[1;32m     70\u001b[0m \u001b[0;34m\u001b[0m\u001b[0m\n\u001b[1;32m     71\u001b[0m \u001b[0;34m\u001b[0m\u001b[0m\n\u001b[0;32m---> 72\u001b[0;31m \u001b[0mgenetic\u001b[0m\u001b[0;34m(\u001b[0m\u001b[0mN\u001b[0m\u001b[0;34m=\u001b[0m\u001b[0;36m53\u001b[0m\u001b[0;34m,\u001b[0m\u001b[0mpopulation_size\u001b[0m\u001b[0;34m=\u001b[0m\u001b[0;36m100\u001b[0m\u001b[0;34m,\u001b[0m\u001b[0mmutation_ratio\u001b[0m\u001b[0;34m=\u001b[0m\u001b[0;36m1\u001b[0m\u001b[0;34m,\u001b[0m\u001b[0mcrossover_ratio\u001b[0m\u001b[0;34m=\u001b[0m\u001b[0;36m0.5\u001b[0m\u001b[0;34m,\u001b[0m\u001b[0mkeep_ratio\u001b[0m\u001b[0;34m=\u001b[0m\u001b[0;36m0.5\u001b[0m\u001b[0;34m)\u001b[0m\u001b[0;34m\u001b[0m\u001b[0m\n\u001b[0m",
      "\u001b[0;32m<ipython-input-88-3effcb3384d0>\u001b[0m in \u001b[0;36mgenetic\u001b[0;34m(N, population_size, mutation_ratio, crossover_ratio, keep_ratio)\u001b[0m\n\u001b[1;32m     62\u001b[0m         \u001b[0mtmp\u001b[0m\u001b[0;34m=\u001b[0m\u001b[0;34m[\u001b[0m\u001b[0mcrossover\u001b[0m\u001b[0;34m(\u001b[0m\u001b[0mpopulation\u001b[0m\u001b[0;34m[\u001b[0m\u001b[0mi\u001b[0m\u001b[0;34m[\u001b[0m\u001b[0;36m0\u001b[0m\u001b[0;34m]\u001b[0m\u001b[0;34m]\u001b[0m\u001b[0;34m,\u001b[0m\u001b[0mpopulation\u001b[0m\u001b[0;34m[\u001b[0m\u001b[0mi\u001b[0m\u001b[0;34m[\u001b[0m\u001b[0;36m1\u001b[0m\u001b[0;34m]\u001b[0m\u001b[0;34m]\u001b[0m\u001b[0;34m)\u001b[0m \u001b[0;32mfor\u001b[0m \u001b[0mi\u001b[0m \u001b[0;32min\u001b[0m \u001b[0mcouples\u001b[0m\u001b[0;34m]\u001b[0m\u001b[0;34m\u001b[0m\u001b[0m\n\u001b[1;32m     63\u001b[0m         \u001b[0mpopulation\u001b[0m\u001b[0;34m+=\u001b[0m\u001b[0;34m[\u001b[0m\u001b[0mi\u001b[0m\u001b[0;34m[\u001b[0m\u001b[0;36m0\u001b[0m\u001b[0;34m]\u001b[0m \u001b[0;32mfor\u001b[0m \u001b[0mi\u001b[0m \u001b[0;32min\u001b[0m \u001b[0mtmp\u001b[0m\u001b[0;34m]\u001b[0m\u001b[0;34m+\u001b[0m\u001b[0;34m[\u001b[0m\u001b[0mi\u001b[0m\u001b[0;34m[\u001b[0m\u001b[0;36m1\u001b[0m\u001b[0;34m]\u001b[0m \u001b[0;32mfor\u001b[0m \u001b[0mi\u001b[0m \u001b[0;32min\u001b[0m \u001b[0mtmp\u001b[0m\u001b[0;34m]\u001b[0m\u001b[0;34m\u001b[0m\u001b[0m\n\u001b[0;32m---> 64\u001b[0;31m         \u001b[0mmerit_factor_population\u001b[0m\u001b[0;34m=\u001b[0m\u001b[0;34m[\u001b[0m\u001b[0;34m[\u001b[0m\u001b[0mi\u001b[0m\u001b[0;34m,\u001b[0m\u001b[0;34m-\u001b[0m\u001b[0mis_valid3\u001b[0m\u001b[0;34m(\u001b[0m\u001b[0mpopulation\u001b[0m\u001b[0;34m[\u001b[0m\u001b[0mi\u001b[0m\u001b[0;34m]\u001b[0m\u001b[0;34m)\u001b[0m\u001b[0;34m]\u001b[0m \u001b[0;32mfor\u001b[0m \u001b[0mi\u001b[0m \u001b[0;32min\u001b[0m \u001b[0mrange\u001b[0m\u001b[0;34m(\u001b[0m\u001b[0mlen\u001b[0m\u001b[0;34m(\u001b[0m\u001b[0mpopulation\u001b[0m\u001b[0;34m)\u001b[0m\u001b[0;34m)\u001b[0m\u001b[0;34m]\u001b[0m\u001b[0;34m\u001b[0m\u001b[0m\n\u001b[0m\u001b[1;32m     65\u001b[0m         \u001b[0mmerit_factor_population\u001b[0m\u001b[0;34m=\u001b[0m\u001b[0msorted\u001b[0m\u001b[0;34m(\u001b[0m\u001b[0mmerit_factor_population\u001b[0m\u001b[0;34m,\u001b[0m\u001b[0mkey\u001b[0m\u001b[0;34m=\u001b[0m\u001b[0;32mlambda\u001b[0m \u001b[0mx\u001b[0m \u001b[0;34m:\u001b[0m\u001b[0mx\u001b[0m\u001b[0;34m[\u001b[0m\u001b[0;36m1\u001b[0m\u001b[0;34m]\u001b[0m\u001b[0;34m,\u001b[0m\u001b[0mreverse\u001b[0m\u001b[0;34m=\u001b[0m\u001b[0;32mTrue\u001b[0m\u001b[0;34m)\u001b[0m\u001b[0;34m\u001b[0m\u001b[0m\n\u001b[1;32m     66\u001b[0m         \u001b[0mmerit_factor_population\u001b[0m\u001b[0;34m=\u001b[0m\u001b[0mmerit_factor_population\u001b[0m\u001b[0;34m[\u001b[0m\u001b[0;34m:\u001b[0m\u001b[0;36m200\u001b[0m\u001b[0;34m]\u001b[0m\u001b[0;34m\u001b[0m\u001b[0m\n",
      "\u001b[0;32m<ipython-input-88-3effcb3384d0>\u001b[0m in \u001b[0;36m<listcomp>\u001b[0;34m(.0)\u001b[0m\n\u001b[1;32m     62\u001b[0m         \u001b[0mtmp\u001b[0m\u001b[0;34m=\u001b[0m\u001b[0;34m[\u001b[0m\u001b[0mcrossover\u001b[0m\u001b[0;34m(\u001b[0m\u001b[0mpopulation\u001b[0m\u001b[0;34m[\u001b[0m\u001b[0mi\u001b[0m\u001b[0;34m[\u001b[0m\u001b[0;36m0\u001b[0m\u001b[0;34m]\u001b[0m\u001b[0;34m]\u001b[0m\u001b[0;34m,\u001b[0m\u001b[0mpopulation\u001b[0m\u001b[0;34m[\u001b[0m\u001b[0mi\u001b[0m\u001b[0;34m[\u001b[0m\u001b[0;36m1\u001b[0m\u001b[0;34m]\u001b[0m\u001b[0;34m]\u001b[0m\u001b[0;34m)\u001b[0m \u001b[0;32mfor\u001b[0m \u001b[0mi\u001b[0m \u001b[0;32min\u001b[0m \u001b[0mcouples\u001b[0m\u001b[0;34m]\u001b[0m\u001b[0;34m\u001b[0m\u001b[0m\n\u001b[1;32m     63\u001b[0m         \u001b[0mpopulation\u001b[0m\u001b[0;34m+=\u001b[0m\u001b[0;34m[\u001b[0m\u001b[0mi\u001b[0m\u001b[0;34m[\u001b[0m\u001b[0;36m0\u001b[0m\u001b[0;34m]\u001b[0m \u001b[0;32mfor\u001b[0m \u001b[0mi\u001b[0m \u001b[0;32min\u001b[0m \u001b[0mtmp\u001b[0m\u001b[0;34m]\u001b[0m\u001b[0;34m+\u001b[0m\u001b[0;34m[\u001b[0m\u001b[0mi\u001b[0m\u001b[0;34m[\u001b[0m\u001b[0;36m1\u001b[0m\u001b[0;34m]\u001b[0m \u001b[0;32mfor\u001b[0m \u001b[0mi\u001b[0m \u001b[0;32min\u001b[0m \u001b[0mtmp\u001b[0m\u001b[0;34m]\u001b[0m\u001b[0;34m\u001b[0m\u001b[0m\n\u001b[0;32m---> 64\u001b[0;31m         \u001b[0mmerit_factor_population\u001b[0m\u001b[0;34m=\u001b[0m\u001b[0;34m[\u001b[0m\u001b[0;34m[\u001b[0m\u001b[0mi\u001b[0m\u001b[0;34m,\u001b[0m\u001b[0;34m-\u001b[0m\u001b[0mis_valid3\u001b[0m\u001b[0;34m(\u001b[0m\u001b[0mpopulation\u001b[0m\u001b[0;34m[\u001b[0m\u001b[0mi\u001b[0m\u001b[0;34m]\u001b[0m\u001b[0;34m)\u001b[0m\u001b[0;34m]\u001b[0m \u001b[0;32mfor\u001b[0m \u001b[0mi\u001b[0m \u001b[0;32min\u001b[0m \u001b[0mrange\u001b[0m\u001b[0;34m(\u001b[0m\u001b[0mlen\u001b[0m\u001b[0;34m(\u001b[0m\u001b[0mpopulation\u001b[0m\u001b[0;34m)\u001b[0m\u001b[0;34m)\u001b[0m\u001b[0;34m]\u001b[0m\u001b[0;34m\u001b[0m\u001b[0m\n\u001b[0m\u001b[1;32m     65\u001b[0m         \u001b[0mmerit_factor_population\u001b[0m\u001b[0;34m=\u001b[0m\u001b[0msorted\u001b[0m\u001b[0;34m(\u001b[0m\u001b[0mmerit_factor_population\u001b[0m\u001b[0;34m,\u001b[0m\u001b[0mkey\u001b[0m\u001b[0;34m=\u001b[0m\u001b[0;32mlambda\u001b[0m \u001b[0mx\u001b[0m \u001b[0;34m:\u001b[0m\u001b[0mx\u001b[0m\u001b[0;34m[\u001b[0m\u001b[0;36m1\u001b[0m\u001b[0;34m]\u001b[0m\u001b[0;34m,\u001b[0m\u001b[0mreverse\u001b[0m\u001b[0;34m=\u001b[0m\u001b[0;32mTrue\u001b[0m\u001b[0;34m)\u001b[0m\u001b[0;34m\u001b[0m\u001b[0m\n\u001b[1;32m     66\u001b[0m         \u001b[0mmerit_factor_population\u001b[0m\u001b[0;34m=\u001b[0m\u001b[0mmerit_factor_population\u001b[0m\u001b[0;34m[\u001b[0m\u001b[0;34m:\u001b[0m\u001b[0;36m200\u001b[0m\u001b[0;34m]\u001b[0m\u001b[0;34m\u001b[0m\u001b[0m\n",
      "\u001b[0;32m<ipython-input-75-5a0eb0c6cf1f>\u001b[0m in \u001b[0;36mis_valid3\u001b[0;34m(sequence)\u001b[0m\n\u001b[1;32m     32\u001b[0m     \u001b[0mdiff\u001b[0m\u001b[0;34m=\u001b[0m\u001b[0;36m0\u001b[0m\u001b[0;34m\u001b[0m\u001b[0m\n\u001b[1;32m     33\u001b[0m     \u001b[0;32mfor\u001b[0m \u001b[0mi\u001b[0m \u001b[0;32min\u001b[0m \u001b[0mrange\u001b[0m\u001b[0;34m(\u001b[0m\u001b[0;36m1\u001b[0m\u001b[0;34m,\u001b[0m\u001b[0mlen\u001b[0m\u001b[0;34m(\u001b[0m\u001b[0msequence\u001b[0m\u001b[0;34m)\u001b[0m\u001b[0;34m)\u001b[0m\u001b[0;34m:\u001b[0m\u001b[0;34m\u001b[0m\u001b[0m\n\u001b[0;32m---> 34\u001b[0;31m         \u001b[0mnb_dif\u001b[0m\u001b[0;34m=\u001b[0m\u001b[0mnp\u001b[0m\u001b[0;34m.\u001b[0m\u001b[0msum\u001b[0m\u001b[0;34m(\u001b[0m\u001b[0mnp\u001b[0m\u001b[0;34m.\u001b[0m\u001b[0marray\u001b[0m\u001b[0;34m(\u001b[0m\u001b[0;34m[\u001b[0m\u001b[0mabs\u001b[0m\u001b[0;34m(\u001b[0m\u001b[0msequence\u001b[0m\u001b[0;34m[\u001b[0m\u001b[0mj\u001b[0m\u001b[0;34m+\u001b[0m\u001b[0mi\u001b[0m\u001b[0;34m]\u001b[0m\u001b[0;34m-\u001b[0m\u001b[0msequence\u001b[0m\u001b[0;34m[\u001b[0m\u001b[0mj\u001b[0m\u001b[0;34m]\u001b[0m\u001b[0;34m)\u001b[0m \u001b[0;32mfor\u001b[0m \u001b[0mj\u001b[0m \u001b[0;32min\u001b[0m \u001b[0mrange\u001b[0m\u001b[0;34m(\u001b[0m\u001b[0mlen\u001b[0m\u001b[0;34m(\u001b[0m\u001b[0msequence\u001b[0m\u001b[0;34m)\u001b[0m\u001b[0;34m-\u001b[0m\u001b[0mi\u001b[0m\u001b[0;34m)\u001b[0m\u001b[0;34m]\u001b[0m\u001b[0;34m)\u001b[0m\u001b[0;34m>\u001b[0m\u001b[0;36m0\u001b[0m\u001b[0;34m)\u001b[0m\u001b[0;34m\u001b[0m\u001b[0m\n\u001b[0m\u001b[1;32m     35\u001b[0m         \u001b[0mdiff\u001b[0m\u001b[0;34m+=\u001b[0m\u001b[0;34m(\u001b[0m\u001b[0mnb_dif\u001b[0m\u001b[0;34m-\u001b[0m\u001b[0mnp\u001b[0m\u001b[0;34m.\u001b[0m\u001b[0mceil\u001b[0m\u001b[0;34m(\u001b[0m\u001b[0;34m(\u001b[0m\u001b[0mlen\u001b[0m\u001b[0;34m(\u001b[0m\u001b[0msequence\u001b[0m\u001b[0;34m)\u001b[0m\u001b[0;34m-\u001b[0m\u001b[0mi\u001b[0m\u001b[0;34m)\u001b[0m\u001b[0;34m/\u001b[0m\u001b[0;36m2\u001b[0m\u001b[0;34m)\u001b[0m\u001b[0;34m)\u001b[0m\u001b[0;34m**\u001b[0m\u001b[0;36m2\u001b[0m\u001b[0;34m\u001b[0m\u001b[0m\n\u001b[1;32m     36\u001b[0m     \u001b[0;32mreturn\u001b[0m \u001b[0mdiff\u001b[0m\u001b[0;34m\u001b[0m\u001b[0m\n",
      "\u001b[0;32m<ipython-input-75-5a0eb0c6cf1f>\u001b[0m in \u001b[0;36m<listcomp>\u001b[0;34m(.0)\u001b[0m\n\u001b[1;32m     32\u001b[0m     \u001b[0mdiff\u001b[0m\u001b[0;34m=\u001b[0m\u001b[0;36m0\u001b[0m\u001b[0;34m\u001b[0m\u001b[0m\n\u001b[1;32m     33\u001b[0m     \u001b[0;32mfor\u001b[0m \u001b[0mi\u001b[0m \u001b[0;32min\u001b[0m \u001b[0mrange\u001b[0m\u001b[0;34m(\u001b[0m\u001b[0;36m1\u001b[0m\u001b[0;34m,\u001b[0m\u001b[0mlen\u001b[0m\u001b[0;34m(\u001b[0m\u001b[0msequence\u001b[0m\u001b[0;34m)\u001b[0m\u001b[0;34m)\u001b[0m\u001b[0;34m:\u001b[0m\u001b[0;34m\u001b[0m\u001b[0m\n\u001b[0;32m---> 34\u001b[0;31m         \u001b[0mnb_dif\u001b[0m\u001b[0;34m=\u001b[0m\u001b[0mnp\u001b[0m\u001b[0;34m.\u001b[0m\u001b[0msum\u001b[0m\u001b[0;34m(\u001b[0m\u001b[0mnp\u001b[0m\u001b[0;34m.\u001b[0m\u001b[0marray\u001b[0m\u001b[0;34m(\u001b[0m\u001b[0;34m[\u001b[0m\u001b[0mabs\u001b[0m\u001b[0;34m(\u001b[0m\u001b[0msequence\u001b[0m\u001b[0;34m[\u001b[0m\u001b[0mj\u001b[0m\u001b[0;34m+\u001b[0m\u001b[0mi\u001b[0m\u001b[0;34m]\u001b[0m\u001b[0;34m-\u001b[0m\u001b[0msequence\u001b[0m\u001b[0;34m[\u001b[0m\u001b[0mj\u001b[0m\u001b[0;34m]\u001b[0m\u001b[0;34m)\u001b[0m \u001b[0;32mfor\u001b[0m \u001b[0mj\u001b[0m \u001b[0;32min\u001b[0m \u001b[0mrange\u001b[0m\u001b[0;34m(\u001b[0m\u001b[0mlen\u001b[0m\u001b[0;34m(\u001b[0m\u001b[0msequence\u001b[0m\u001b[0;34m)\u001b[0m\u001b[0;34m-\u001b[0m\u001b[0mi\u001b[0m\u001b[0;34m)\u001b[0m\u001b[0;34m]\u001b[0m\u001b[0;34m)\u001b[0m\u001b[0;34m>\u001b[0m\u001b[0;36m0\u001b[0m\u001b[0;34m)\u001b[0m\u001b[0;34m\u001b[0m\u001b[0m\n\u001b[0m\u001b[1;32m     35\u001b[0m         \u001b[0mdiff\u001b[0m\u001b[0;34m+=\u001b[0m\u001b[0;34m(\u001b[0m\u001b[0mnb_dif\u001b[0m\u001b[0;34m-\u001b[0m\u001b[0mnp\u001b[0m\u001b[0;34m.\u001b[0m\u001b[0mceil\u001b[0m\u001b[0;34m(\u001b[0m\u001b[0;34m(\u001b[0m\u001b[0mlen\u001b[0m\u001b[0;34m(\u001b[0m\u001b[0msequence\u001b[0m\u001b[0;34m)\u001b[0m\u001b[0;34m-\u001b[0m\u001b[0mi\u001b[0m\u001b[0;34m)\u001b[0m\u001b[0;34m/\u001b[0m\u001b[0;36m2\u001b[0m\u001b[0;34m)\u001b[0m\u001b[0;34m)\u001b[0m\u001b[0;34m**\u001b[0m\u001b[0;36m2\u001b[0m\u001b[0;34m\u001b[0m\u001b[0m\n\u001b[1;32m     36\u001b[0m     \u001b[0;32mreturn\u001b[0m \u001b[0mdiff\u001b[0m\u001b[0;34m\u001b[0m\u001b[0m\n",
      "\u001b[0;31mKeyboardInterrupt\u001b[0m: "
     ]
    }
   ],
   "source": [
    "import time\n",
    "def crossover(x,y):\n",
    "    tmp=np.random.rand()*(len(x)-1)\n",
    "    a=[x[i] if i<tmp else y[i] for i in range(0,len(x))]\n",
    "    b=[y[i] if i<tmp else x[i] for i in range(0,len(x))]\n",
    "    \n",
    "#     a=[x[i] if np.random.rand()<0.5 else y[i] for i in range(0,N)]\n",
    "#     b=[1 if a[i]==-1 else -1 for i in range(0,N)]\n",
    "    \n",
    "    return [a,b]\n",
    "\n",
    "# def genetic(N,population_size,mutation_ratio,crossover_ratio,keep_ratio):\n",
    "#     population=[generate_sequence(N) for i in range(population_size)]\n",
    "#     while True:\n",
    "#         a=time.time()\n",
    "#         population=[sbm(population[i]) for i in range(0,int(len(population)*mutation_ratio))]\n",
    "#         tmp=[crossover(population[i],population[i+j]) for j in range(0,1) for i in range(0,int(len(population)*crossover_ratio)-1)]\n",
    "#         population+=[i[0] for i in tmp]+[i[1] for i in tmp]\n",
    "#         random.shuffle(population)\n",
    "#         b=time.time()\n",
    "#         merit_factor_population=[[i,merit_factor(population[i])] for i in range(len(population))]\n",
    "#         c=time.time()\n",
    "#         merit_factor_population=sorted(merit_factor_population,key=lambda x :x[1],reverse=True)[:int(keep_ratio*len(population))]\n",
    "#         d=time.time()\n",
    "#         population=[population[merit_factor_population[i][0]] for i in range(len(merit_factor_population))]\n",
    "#         e=time.time()\n",
    "#         print(merit_factor_population[0][1],len(population))\n",
    "# #         print(b-a,c-b,d-c,e-d)\n",
    "#         if len(merit_factor_population)==1:\n",
    "#             break\n",
    "#     print(merit_factor_population[0][1])\n",
    "    \n",
    "# def genetic(N,population_size,mutation_ratio,crossover_ratio,keep_ratio):\n",
    "#     random.seed(1)\n",
    "#     np.random.seed(1)\n",
    "#     population=[generate_sequence(N) for i in range(population_size)]\n",
    "#     for step in range(10):\n",
    "# #         random.shuffle(population)\n",
    "#         population=[sbm(population[i]) for i in range(0,int(len(population)*mutation_ratio))]\n",
    "#         couples=[[i,j] for j in range(0,100) for i in range(j,100) if i!=j]\n",
    "#         tmp=[crossover(population[i[0]],population[i[1]]) for i in couples]\n",
    "#         population+=[i[0] for i in tmp]+[i[1] for i in tmp]\n",
    "#         merit_factor_population=[[i,merit_factor(population[i])] for i in range(len(population))]\n",
    "#         merit_factor_population=sorted(merit_factor_population,key=lambda x :x[1],reverse=True)\n",
    "#         merit_factor_population=merit_factor_population[:200]\n",
    "#         population=[population[merit_factor_population[i][0]] for i in range(len(merit_factor_population))]\n",
    "#         print(merit_factor_population[0][1],len(population))\n",
    "#     print(merit_factor_population[0][1])\n",
    "    \n",
    "\n",
    "# genetic(N=53,population_size=100,mutation_ratio=1,crossover_ratio=0.5,keep_ratio=0.5)\n",
    "\n",
    "\n",
    "def genetic(N,population_size,mutation_ratio,crossover_ratio,keep_ratio):\n",
    "    random.seed(1)\n",
    "    np.random.seed(1)\n",
    "    population=[generate_sequence(N) for i in range(population_size)]\n",
    "    for step in range(10):\n",
    "#         random.shuffle(population)\n",
    "        population=[sbm(population[i]) for i in range(0,int(len(population)*mutation_ratio))]\n",
    "        couples=[[i,j] for j in range(0,100) for i in range(j,100) if i!=j]\n",
    "        tmp=[crossover(population[i[0]],population[i[1]]) for i in couples]\n",
    "        population+=[i[0] for i in tmp]+[i[1] for i in tmp]\n",
    "        merit_factor_population=[[i,-is_valid3(population[i])] for i in range(len(population))]\n",
    "        merit_factor_population=sorted(merit_factor_population,key=lambda x :x[1],reverse=True)\n",
    "        merit_factor_population=merit_factor_population[:200]\n",
    "        population=[population[merit_factor_population[i][0]] for i in range(len(merit_factor_population))]\n",
    "        print(merit_factor_population[0][1],len(population))\n",
    "    print(merit_factor_population[0][1])\n",
    "    \n",
    "\n",
    "genetic(N=53,population_size=100,mutation_ratio=1,crossover_ratio=0.5,keep_ratio=0.5)\n"
   ]
  },
  {
   "cell_type": "code",
   "execution_count": 42,
   "metadata": {},
   "outputs": [
    {
     "data": {
      "text/plain": [
       "[[1, 0],\n",
       " [2, 0],\n",
       " [3, 0],\n",
       " [4, 0],\n",
       " [5, 0],\n",
       " [6, 0],\n",
       " [7, 0],\n",
       " [8, 0],\n",
       " [9, 0],\n",
       " [10, 0],\n",
       " [11, 0],\n",
       " [12, 0],\n",
       " [13, 0],\n",
       " [14, 0],\n",
       " [15, 0],\n",
       " [16, 0],\n",
       " [17, 0],\n",
       " [18, 0],\n",
       " [19, 0],\n",
       " [2, 1],\n",
       " [3, 1],\n",
       " [4, 1],\n",
       " [5, 1],\n",
       " [6, 1],\n",
       " [7, 1],\n",
       " [8, 1],\n",
       " [9, 1],\n",
       " [10, 1],\n",
       " [11, 1],\n",
       " [12, 1],\n",
       " [13, 1],\n",
       " [14, 1],\n",
       " [15, 1],\n",
       " [16, 1],\n",
       " [17, 1],\n",
       " [18, 1],\n",
       " [19, 1],\n",
       " [3, 2],\n",
       " [4, 2],\n",
       " [5, 2],\n",
       " [6, 2],\n",
       " [7, 2],\n",
       " [8, 2],\n",
       " [9, 2],\n",
       " [10, 2],\n",
       " [11, 2],\n",
       " [12, 2],\n",
       " [13, 2],\n",
       " [14, 2],\n",
       " [15, 2],\n",
       " [16, 2],\n",
       " [17, 2],\n",
       " [18, 2],\n",
       " [19, 2],\n",
       " [4, 3],\n",
       " [5, 3],\n",
       " [6, 3],\n",
       " [7, 3],\n",
       " [8, 3],\n",
       " [9, 3],\n",
       " [10, 3],\n",
       " [11, 3],\n",
       " [12, 3],\n",
       " [13, 3],\n",
       " [14, 3],\n",
       " [15, 3],\n",
       " [16, 3],\n",
       " [17, 3],\n",
       " [18, 3],\n",
       " [19, 3],\n",
       " [5, 4],\n",
       " [6, 4],\n",
       " [7, 4],\n",
       " [8, 4],\n",
       " [9, 4],\n",
       " [10, 4],\n",
       " [11, 4],\n",
       " [12, 4],\n",
       " [13, 4],\n",
       " [14, 4],\n",
       " [15, 4],\n",
       " [16, 4],\n",
       " [17, 4],\n",
       " [18, 4],\n",
       " [19, 4],\n",
       " [6, 5],\n",
       " [7, 5],\n",
       " [8, 5],\n",
       " [9, 5],\n",
       " [10, 5],\n",
       " [11, 5],\n",
       " [12, 5],\n",
       " [13, 5],\n",
       " [14, 5],\n",
       " [15, 5],\n",
       " [16, 5],\n",
       " [17, 5],\n",
       " [18, 5],\n",
       " [19, 5],\n",
       " [7, 6],\n",
       " [8, 6],\n",
       " [9, 6],\n",
       " [10, 6],\n",
       " [11, 6],\n",
       " [12, 6],\n",
       " [13, 6],\n",
       " [14, 6],\n",
       " [15, 6],\n",
       " [16, 6],\n",
       " [17, 6],\n",
       " [18, 6],\n",
       " [19, 6],\n",
       " [8, 7],\n",
       " [9, 7],\n",
       " [10, 7],\n",
       " [11, 7],\n",
       " [12, 7],\n",
       " [13, 7],\n",
       " [14, 7],\n",
       " [15, 7],\n",
       " [16, 7],\n",
       " [17, 7],\n",
       " [18, 7],\n",
       " [19, 7],\n",
       " [9, 8],\n",
       " [10, 8],\n",
       " [11, 8],\n",
       " [12, 8],\n",
       " [13, 8],\n",
       " [14, 8],\n",
       " [15, 8],\n",
       " [16, 8],\n",
       " [17, 8],\n",
       " [18, 8],\n",
       " [19, 8],\n",
       " [10, 9],\n",
       " [11, 9],\n",
       " [12, 9],\n",
       " [13, 9],\n",
       " [14, 9],\n",
       " [15, 9],\n",
       " [16, 9],\n",
       " [17, 9],\n",
       " [18, 9],\n",
       " [19, 9],\n",
       " [11, 10],\n",
       " [12, 10],\n",
       " [13, 10],\n",
       " [14, 10],\n",
       " [15, 10],\n",
       " [16, 10],\n",
       " [17, 10],\n",
       " [18, 10],\n",
       " [19, 10],\n",
       " [12, 11],\n",
       " [13, 11],\n",
       " [14, 11],\n",
       " [15, 11],\n",
       " [16, 11],\n",
       " [17, 11],\n",
       " [18, 11],\n",
       " [19, 11],\n",
       " [13, 12],\n",
       " [14, 12],\n",
       " [15, 12],\n",
       " [16, 12],\n",
       " [17, 12],\n",
       " [18, 12],\n",
       " [19, 12],\n",
       " [14, 13],\n",
       " [15, 13],\n",
       " [16, 13],\n",
       " [17, 13],\n",
       " [18, 13],\n",
       " [19, 13],\n",
       " [15, 14],\n",
       " [16, 14],\n",
       " [17, 14],\n",
       " [18, 14],\n",
       " [19, 14],\n",
       " [16, 15],\n",
       " [17, 15],\n",
       " [18, 15],\n",
       " [19, 15],\n",
       " [17, 16],\n",
       " [18, 16],\n",
       " [19, 16],\n",
       " [18, 17],\n",
       " [19, 17],\n",
       " [19, 18]]"
      ]
     },
     "execution_count": 42,
     "metadata": {},
     "output_type": "execute_result"
    }
   ],
   "source": [
    "[[i,j] for j in range(0,20) for i in range(j,20) if i!=j]"
   ]
  },
  {
   "cell_type": "code",
   "execution_count": 115,
   "metadata": {},
   "outputs": [
    {
     "name": "stdout",
     "output_type": "stream",
     "text": [
      "1.673743227919869 423\n",
      "1.8953488372093024 357\n",
      "1.9227818787089304 300\n",
      "2.0573795880439834 253\n",
      "1.9183393501805055 213\n",
      "1.9789214956055414 179\n",
      "2.056105865965021 149\n",
      "2.1831552999178307 124\n",
      "2.084497097128511 103\n",
      "2.146469542737114 85\n",
      "2.1889108584610315 70\n",
      "2.2166694476889703 58\n",
      "2.228569032041604 47\n",
      "2.2166694476889703 37\n",
      "2.2806008583690986 28\n",
      "2.2436243877723356 22\n",
      "2.2240917461911938 16\n",
      "2.4578168362627197 11\n",
      "2.546386812344259 7\n",
      "2.5347261972905932 3\n"
     ]
    },
    {
     "ename": "IndexError",
     "evalue": "list index out of range",
     "output_type": "error",
     "traceback": [
      "\u001b[0;31m---------------------------------------------------------------------------\u001b[0m",
      "\u001b[0;31mIndexError\u001b[0m                                Traceback (most recent call last)",
      "\u001b[0;32m<ipython-input-115-baee8ab31d89>\u001b[0m in \u001b[0;36m<module>\u001b[0;34m\u001b[0m\n\u001b[1;32m      2\u001b[0m \u001b[0;31m# EA(163,0.4)\u001b[0m\u001b[0;34m\u001b[0m\u001b[0;34m\u001b[0m\u001b[0m\n\u001b[1;32m      3\u001b[0m \u001b[0;31m# simulated_annealing(163)\u001b[0m\u001b[0;34m\u001b[0m\u001b[0;34m\u001b[0m\u001b[0m\n\u001b[0;32m----> 4\u001b[0;31m \u001b[0mgenetic\u001b[0m\u001b[0;34m(\u001b[0m\u001b[0mN\u001b[0m\u001b[0;34m=\u001b[0m\u001b[0;36m163\u001b[0m\u001b[0;34m,\u001b[0m\u001b[0mpopulation_size\u001b[0m\u001b[0;34m=\u001b[0m\u001b[0;36m500\u001b[0m\u001b[0;34m,\u001b[0m\u001b[0mmutation_ratio\u001b[0m\u001b[0;34m=\u001b[0m\u001b[0;36m1\u001b[0m\u001b[0;34m,\u001b[0m\u001b[0mcrossover_ratio\u001b[0m\u001b[0;34m=\u001b[0m\u001b[0;36m0.4\u001b[0m\u001b[0;34m,\u001b[0m\u001b[0mkeep_ratio\u001b[0m\u001b[0;34m=\u001b[0m\u001b[0;36m0.25\u001b[0m\u001b[0;34m)\u001b[0m\u001b[0;34m\u001b[0m\u001b[0m\n\u001b[0m",
      "\u001b[0;32m<ipython-input-72-b7e7f61dd179>\u001b[0m in \u001b[0;36mgenetic\u001b[0;34m(N, population_size, mutation_ratio, crossover_ratio, keep_ratio)\u001b[0m\n\u001b[1;32m     30\u001b[0m         \u001b[0mpopulation\u001b[0m\u001b[0;34m=\u001b[0m\u001b[0;34m[\u001b[0m\u001b[0mpopulation\u001b[0m\u001b[0;34m[\u001b[0m\u001b[0mmerit_factor_population\u001b[0m\u001b[0;34m[\u001b[0m\u001b[0mi\u001b[0m\u001b[0;34m]\u001b[0m\u001b[0;34m[\u001b[0m\u001b[0;36m0\u001b[0m\u001b[0;34m]\u001b[0m\u001b[0;34m]\u001b[0m \u001b[0;32mfor\u001b[0m \u001b[0mi\u001b[0m \u001b[0;32min\u001b[0m \u001b[0mrange\u001b[0m\u001b[0;34m(\u001b[0m\u001b[0mlen\u001b[0m\u001b[0;34m(\u001b[0m\u001b[0mmerit_factor_population\u001b[0m\u001b[0;34m)\u001b[0m\u001b[0;34m)\u001b[0m\u001b[0;34m]\u001b[0m\u001b[0;34m\u001b[0m\u001b[0m\n\u001b[1;32m     31\u001b[0m         \u001b[0me\u001b[0m\u001b[0;34m=\u001b[0m\u001b[0mtime\u001b[0m\u001b[0;34m.\u001b[0m\u001b[0mtime\u001b[0m\u001b[0;34m(\u001b[0m\u001b[0;34m)\u001b[0m\u001b[0;34m\u001b[0m\u001b[0m\n\u001b[0;32m---> 32\u001b[0;31m         \u001b[0mprint\u001b[0m\u001b[0;34m(\u001b[0m\u001b[0mmerit_factor_population\u001b[0m\u001b[0;34m[\u001b[0m\u001b[0;36m0\u001b[0m\u001b[0;34m]\u001b[0m\u001b[0;34m[\u001b[0m\u001b[0;36m1\u001b[0m\u001b[0;34m]\u001b[0m\u001b[0;34m,\u001b[0m\u001b[0mlen\u001b[0m\u001b[0;34m(\u001b[0m\u001b[0mpopulation\u001b[0m\u001b[0;34m)\u001b[0m\u001b[0;34m)\u001b[0m\u001b[0;34m\u001b[0m\u001b[0m\n\u001b[0m\u001b[1;32m     33\u001b[0m \u001b[0;31m#         print(b-a,c-b,d-c,e-d)\u001b[0m\u001b[0;34m\u001b[0m\u001b[0;34m\u001b[0m\u001b[0m\n\u001b[1;32m     34\u001b[0m         \u001b[0;32mif\u001b[0m \u001b[0mlen\u001b[0m\u001b[0;34m(\u001b[0m\u001b[0mmerit_factor_population\u001b[0m\u001b[0;34m)\u001b[0m\u001b[0;34m==\u001b[0m\u001b[0;36m1\u001b[0m\u001b[0;34m:\u001b[0m\u001b[0;34m\u001b[0m\u001b[0m\n",
      "\u001b[0;31mIndexError\u001b[0m: list index out of range"
     ]
    }
   ],
   "source": [
    "# RLS(163)\n",
    "# EA(163,0.4)\n",
    "# simulated_annealing(163)\n",
    "genetic(N=163,population_size=500,mutation_ratio=1,crossover_ratio=0.4,keep_ratio=0.25)"
   ]
  },
  {
   "cell_type": "code",
   "execution_count": 91,
   "metadata": {},
   "outputs": [],
   "source": [
    "sequences=[]\n",
    "score=[]\n",
    "\n",
    "file=open(\"2016-labs-skew.txt\")\n",
    "for i,line in enumerate(file):\n",
    "    if i>0:\n",
    "        a=line.split(\" \")[0].split('\\t')\n",
    "        b=float(a[1])\n",
    "        c=list(a[3][:-1])\n",
    "        c=[-1 if i=='0' else 1 for i in c]\n",
    "        cc=[c[i+2]*c[i] for i in range(len(c)-2)]\n",
    "#         c+=[0]*(449-len(c))\n",
    "        sequences.append(cc)\n",
    "        score.append(b)\n",
    "        \n",
    "# x=[]\n",
    "# y=[]\n",
    "# for i in range(100000):\n",
    "# #     seq=generate_sequence(int(np.random.rand()*444)+5)\n",
    "#     seq=generate_sequence(20)\n",
    "# #     print(len(seq))\n",
    "#     y.append(merit_factor(seq))\n",
    "#     seq+=[0]*(20-len(seq))\n",
    "#     x.append(seq)\n",
    "\n",
    "# # sequences=np.array(sequences).reshape(-1,449)\n",
    "# # score=np.array(score).reshape(-1,1)\n",
    "# x=np.array(x).reshape(-1,20)\n",
    "# y=np.array(y).reshape(-1,1)\n",
    "\n",
    "# # sequences=np.concatenate((sequences,x),axis=0)\n",
    "# # score=np.concatenate((score,y),axis=0)\n",
    "\n",
    "# sequences=sequences.astype('float64')\n",
    "# score=score.astype('float64')\n",
    "\n",
    "\n",
    "# sequences=x\n",
    "# score=y"
   ]
  },
  {
   "cell_type": "code",
   "execution_count": 64,
   "metadata": {},
   "outputs": [
    {
     "name": "stdout",
     "output_type": "stream",
     "text": [
      "4 0 0\n",
      "6 0 0\n",
      "8 0 0\n",
      "10 0 0\n",
      "12 0 0\n",
      "14 0 0\n",
      "16 0 0\n",
      "20 0 0\n",
      "26 0 0\n",
      "28 0 0\n",
      "38 0 0\n",
      "40 0 0\n",
      "42 0 0\n",
      "44 0 0\n",
      "46 0 0\n",
      "48 0 0\n",
      "50 0 0\n",
      "52 0 0\n",
      "54 0 0\n",
      "56 0 0\n",
      "58 0 0\n",
      "66 0 0\n",
      "70 0 0\n",
      "76 0 0\n",
      "82 0 0\n",
      "90 0 0\n",
      "94 0 0\n",
      "96 0 0\n",
      "98 0 0\n",
      "100 0 0\n",
      "102 0 0\n",
      "104 0 0\n",
      "106 0 0\n",
      "108 0 0\n",
      "110 0 0\n",
      "112 0 0\n",
      "114 0 0\n",
      "116 0 0\n",
      "118 0 0\n",
      "120 0 0\n",
      "122 0 0\n",
      "124 0 0\n",
      "126 0 0\n",
      "128 0 0\n",
      "130 0 0\n",
      "132 0 0\n",
      "134 0 0\n",
      "136 0 0\n",
      "138 0 0\n",
      "140 0 0\n",
      "142 0 0\n",
      "144 0 0\n",
      "146 0 0\n",
      "148 0 0\n",
      "150 0 0\n",
      "152 0 0\n",
      "154 0 0\n",
      "156 0 0\n",
      "158 0 0\n",
      "159 0 0\n",
      "162 0 0\n",
      "164 0 0\n",
      "166 0 0\n",
      "168 0 0\n",
      "170 0 0\n",
      "172 0 0\n",
      "174 0 0\n",
      "176 0 0\n",
      "178 0 0\n",
      "180 0 0\n",
      "182 0 0\n",
      "184 0 0\n",
      "186 0 0\n",
      "188 0 0\n",
      "190 0 0\n",
      "192 0 0\n",
      "194 0 0\n",
      "196 0 0\n",
      "198 0 0\n",
      "200 0 0\n",
      "202 0 0\n",
      "204 0 0\n",
      "206 0 0\n",
      "208 0 0\n",
      "210 0 0\n",
      "212 0 0\n",
      "214 0 0\n",
      "216 0 0\n",
      "218 0 0\n",
      "220 0 0\n",
      "222 0 0\n",
      "224 0 0\n",
      "226 0 0\n",
      "228 0 0\n",
      "230 0 0\n",
      "232 0 0\n",
      "234 0 0\n",
      "236 0 0\n",
      "238 0 0\n",
      "240 0 0\n",
      "242 0 0\n",
      "244 0 0\n",
      "246 0 0\n",
      "248 0 0\n",
      "250 0 0\n",
      "252 0 0\n",
      "254 0 0\n",
      "256 0 0\n",
      "258 0 0\n",
      "260 0 0\n",
      "262 0 0\n",
      "264 0 0\n",
      "266 0 0\n",
      "268 0 0\n",
      "270 0 0\n",
      "280 0 0\n",
      "282 0 0\n",
      "284 0 0\n",
      "300 0 0\n",
      "302 0 0\n",
      "340 0 0\n",
      "380 0 0\n",
      "400 0 0\n",
      "447 0 0\n"
     ]
    }
   ],
   "source": [
    "for i in sequences:\n",
    "    print(len(i),np.sum(np.array(i)==-1),np.sum(np.array(i)==1))"
   ]
  },
  {
   "cell_type": "code",
   "execution_count": 92,
   "metadata": {},
   "outputs": [
    {
     "name": "stdout",
     "output_type": "stream",
     "text": [
      "5 3 1.5\n",
      "7 5 2.5\n",
      "9 7 3.5\n",
      "11 9 4.5\n",
      "13 11 5.5\n",
      "15 13 6.5\n",
      "17 15 7.5\n",
      "21 19 9.5\n",
      "27 25 12.5\n",
      "29 27 13.5\n",
      "39 37 18.5\n",
      "41 39 19.5\n",
      "43 41 20.5\n",
      "45 43 21.5\n",
      "47 45 22.5\n",
      "49 47 23.5\n",
      "51 49 24.5\n",
      "53 51 25.5\n",
      "55 53 26.5\n",
      "57 55 27.5\n",
      "59 57 28.5\n",
      "67 65 32.5\n",
      "71 69 34.5\n",
      "77 75 37.5\n",
      "83 81 40.5\n",
      "91 89 44.5\n",
      "95 93 46.5\n",
      "97 95 47.5\n",
      "99 97 48.5\n",
      "101 99 49.5\n",
      "103 101 50.5\n",
      "105 103 51.5\n",
      "107 105 52.5\n",
      "109 107 53.5\n",
      "111 109 54.5\n",
      "113 111 55.5\n",
      "115 113 56.5\n",
      "117 115 57.5\n",
      "119 117 58.5\n",
      "121 119 59.5\n",
      "123 121 60.5\n",
      "125 123 61.5\n",
      "127 125 62.5\n",
      "129 127 63.5\n",
      "131 129 64.5\n",
      "133 131 65.5\n",
      "135 133 66.5\n",
      "137 135 67.5\n",
      "139 137 68.5\n",
      "141 139 69.5\n",
      "143 141 70.5\n",
      "145 143 71.5\n",
      "147 145 72.5\n",
      "149 147 73.5\n",
      "151 149 74.5\n",
      "153 151 75.5\n",
      "155 153 76.5\n",
      "157 155 77.5\n",
      "159 157 78.5\n",
      "160 158 79.0\n",
      "163 161 80.5\n",
      "165 163 81.5\n",
      "167 165 82.5\n",
      "169 167 83.5\n",
      "171 169 84.5\n",
      "173 171 85.5\n",
      "175 173 86.5\n",
      "177 175 87.5\n",
      "179 177 88.5\n",
      "181 179 89.5\n",
      "183 181 90.5\n",
      "185 183 91.5\n",
      "187 185 92.5\n",
      "189 187 93.5\n",
      "191 189 94.5\n",
      "193 191 95.5\n",
      "195 193 96.5\n",
      "197 195 97.5\n",
      "199 197 98.5\n",
      "201 199 99.5\n",
      "203 201 100.5\n",
      "205 203 101.5\n",
      "207 205 102.5\n",
      "209 207 103.5\n",
      "211 209 104.5\n",
      "213 211 105.5\n",
      "215 213 106.5\n",
      "217 215 107.5\n",
      "219 217 108.5\n",
      "221 219 109.5\n",
      "223 221 110.5\n",
      "225 223 111.5\n",
      "227 225 112.5\n",
      "229 227 113.5\n",
      "231 229 114.5\n",
      "233 231 115.5\n",
      "235 233 116.5\n",
      "237 235 117.5\n",
      "239 237 118.5\n",
      "241 239 119.5\n",
      "243 241 120.5\n",
      "245 243 121.5\n",
      "247 245 122.5\n",
      "249 247 123.5\n",
      "251 249 124.5\n",
      "253 251 125.5\n",
      "255 253 126.5\n",
      "257 255 127.5\n",
      "259 257 128.5\n",
      "261 259 129.5\n",
      "263 261 130.5\n",
      "265 263 131.5\n",
      "267 265 132.5\n",
      "269 267 133.5\n",
      "271 269 134.5\n",
      "281 279 139.5\n",
      "283 281 140.5\n",
      "285 283 141.5\n",
      "301 299 149.5\n",
      "303 301 150.5\n",
      "341 339 169.5\n",
      "381 379 189.5\n",
      "401 399 199.5\n",
      "448 446 223.0\n"
     ]
    }
   ],
   "source": [
    "for i in sequences:\n",
    "    print(len(i)+2,np.sum(np.array(i)!=0),(len(i))/2)"
   ]
  },
  {
   "cell_type": "code",
   "execution_count": 150,
   "metadata": {},
   "outputs": [
    {
     "name": "stdout",
     "output_type": "stream",
     "text": [
      "0.970873786407767 0.0 -2.0\n",
      "1.3333333333333333 -0.4082482904638627 -1.8333333333333335\n",
      "1.36986301369863 -0.6289709020331512 -1.6043956043956042\n",
      "0.39215686274509803 0.4082482904638628 -1.8333333333333335\n",
      "0.8264462809917356 0.20100756305184247 -1.9595959595959596\n",
      "1.1235955056179776 0.20100756305184253 -1.9595959595959596\n",
      "0.9174311926605505 0.6289709020331512 -1.6043956043956038\n",
      "1.36986301369863 0.20100756305184253 -1.9595959595959596\n",
      "1.2987012987012987 -1.1547005383792515 -0.6666666666666665\n",
      "1.639344262295082 -0.6289709020331512 -1.6043956043956042\n"
     ]
    }
   ],
   "source": [
    "for i in range(10):\n",
    "    a=generate_sequence(20)\n",
    "    print(merit_factor(a),stats.skew(a),stats.kurtosis(a))"
   ]
  },
  {
   "cell_type": "code",
   "execution_count": 127,
   "metadata": {},
   "outputs": [
    {
     "name": "stdout",
     "output_type": "stream",
     "text": [
      "DescribeResult(nobs=5, minmax=(-1, 1), mean=-0.6, variance=0.8000000000000002, skewness=1.5, kurtosis=0.25)\n",
      "DescribeResult(nobs=7, minmax=(-1, 1), mean=-0.14285714285714285, variance=1.1428571428571428, skewness=0.2886751345948127, kurtosis=-1.9166666666666665)\n",
      "DescribeResult(nobs=9, minmax=(-1, 1), mean=-0.3333333333333333, variance=1.0, skewness=0.7071067811865475, kurtosis=-1.4999999999999998)\n",
      "DescribeResult(nobs=11, minmax=(-1, 1), mean=0.09090909090909091, variance=1.0909090909090906, skewness=-0.1825741858350553, kurtosis=-1.9666666666666666)\n",
      "DescribeResult(nobs=13, minmax=(-1, 1), mean=-0.38461538461538464, variance=0.923076923076923, skewness=0.8333333333333333, kurtosis=-1.3055555555555558)\n",
      "DescribeResult(nobs=15, minmax=(-1, 1), mean=-0.2, variance=1.0285714285714287, skewness=0.4082482904638628, kurtosis=-1.8333333333333337)\n",
      "DescribeResult(nobs=17, minmax=(-1, 1), mean=0.17647058823529413, variance=1.0294117647058825, skewness=-0.3585685828003181, kurtosis=-1.8714285714285714)\n",
      "DescribeResult(nobs=21, minmax=(-1, 1), mean=0.23809523809523808, variance=0.9904761904761903, skewness=-0.4902903378454603, kurtosis=-1.7596153846153846)\n",
      "DescribeResult(nobs=27, minmax=(-1, 1), mean=-0.18518518518518517, variance=1.0028490028490027, skewness=0.37688918072220445, kurtosis=-1.8579545454545452)\n",
      "DescribeResult(nobs=29, minmax=(-1, 1), mean=0.10344827586206896, variance=1.024630541871921, skewness=-0.20801257358446087, kurtosis=-1.956730769230769)\n",
      "DescribeResult(nobs=39, minmax=(-1, 1), mean=-0.1794871794871795, variance=0.9932523616734147, skewness=0.36490022459988075, kurtosis=-1.8668478260869574)\n",
      "DescribeResult(nobs=41, minmax=(-1, 1), mean=0.12195121951219512, variance=1.0097560975609756, skewness=-0.24573659359149544, kurtosis=-1.9396135265700478)\n",
      "DescribeResult(nobs=43, minmax=(-1, 1), mean=0.11627906976744186, variance=1.0099667774086378, skewness=-0.23414645289542352, kurtosis=-1.945175438596491)\n",
      "DescribeResult(nobs=45, minmax=(-1, 1), mean=-0.1111111111111111, variance=1.0101010101010104, skewness=0.223606797749979, kurtosis=-1.9500000000000006)\n",
      "DescribeResult(nobs=47, minmax=(-1, 1), mean=-0.14893617021276595, variance=0.9990749306197962, skewness=0.3012320380383549, kurtosis=-1.9092592592592583)\n",
      "DescribeResult(nobs=49, minmax=(-1, 1), mean=-0.14285714285714285, variance=1.0, skewness=0.28867513459481275, kurtosis=-1.9166666666666665)\n",
      "DescribeResult(nobs=51, minmax=(-1, 1), mean=0.0196078431372549, variance=1.0196078431372548, skewness=-0.03922322702763674, kurtosis=-1.9984615384615387)\n",
      "DescribeResult(nobs=53, minmax=(-1, 1), mean=-0.20754716981132076, variance=0.9753265602322208, skewness=0.42433421239575253, kurtosis=-1.8199404761904767)\n",
      "DescribeResult(nobs=55, minmax=(-1, 1), mean=-0.12727272727272726, variance=1.002020202020202, skewness=0.25663245128736806, kurtosis=-1.934139784946237)\n",
      "DescribeResult(nobs=57, minmax=(-1, 1), mean=0.12280701754385964, variance=1.0025062656641606, skewness=-0.24748737341529145, kurtosis=-1.93875)\n",
      "DescribeResult(nobs=59, minmax=(-1, 1), mean=0.11864406779661017, variance=1.0029222676797191, skewness=-0.2389760596996215, kurtosis=-1.9428904428904425)\n",
      "DescribeResult(nobs=67, minmax=(-1, 1), mean=-0.13432835820895522, variance=0.9968340117593849, skewness=0.27111385490794987, kurtosis=-1.9264972776769511)\n",
      "DescribeResult(nobs=71, minmax=(-1, 1), mean=-0.09859154929577464, variance=1.0044265593561366, skewness=0.19814848097530446, kurtosis=-1.9607371794871784)\n",
      "DescribeResult(nobs=77, minmax=(-1, 1), mean=-0.14285714285714285, variance=0.992481203007519, skewness=0.28867513459481264, kurtosis=-1.916666666666667)\n",
      "DescribeResult(nobs=83, minmax=(-1, 1), mean=-0.10843373493975904, variance=1.0002938583602703, skewness=0.21815377450367376, kurtosis=-1.9524089306698003)\n",
      "DescribeResult(nobs=91, minmax=(-1, 1), mean=-0.0989010989010989, variance=1.0012210012210012, skewness=0.198776746934724, kurtosis=-1.9604878048780485)\n",
      "DescribeResult(nobs=95, minmax=(-1, 1), mean=-0.07368421052631578, variance=1.0051511758118703, skewness=0.1477701158222621, kurtosis=-1.9781639928698758)\n",
      "DescribeResult(nobs=97, minmax=(-1, 1), mean=-0.1134020618556701, variance=0.9974226804123713, skewness=0.22827669566705314, kurtosis=-1.947889750215332)\n",
      "DescribeResult(nobs=99, minmax=(-1, 1), mean=-0.09090909090909091, variance=1.0018552875695732, skewness=0.18257418583505525, kurtosis=-1.9666666666666668)\n",
      "DescribeResult(nobs=101, minmax=(-1, 1), mean=-0.10891089108910891, variance=0.9980198019801982, skewness=0.219125245044639, kurtosis=-1.9519841269841272)\n",
      "DescribeResult(nobs=103, minmax=(-1, 1), mean=-0.10679611650485436, variance=0.9982866933181037, skewness=0.21482080588773939, kurtosis=-1.9538520213577417)\n",
      "DescribeResult(nobs=105, minmax=(-1, 1), mean=-0.10476190476190476, variance=0.9985347985347984, skewness=0.21068312883972537, kurtosis=-1.955612619222303)\n",
      "DescribeResult(nobs=107, minmax=(-1, 1), mean=-0.06542056074766354, variance=1.0051137365543996, skewness=0.13112201362143705, kurtosis=-1.9828070175438595)\n",
      "DescribeResult(nobs=109, minmax=(-1, 1), mean=-0.10091743119266056, variance=0.9989806320081551, skewness=0.20287055622991249, kurtosis=-1.958843537414966)\n",
      "DescribeResult(nobs=111, minmax=(-1, 1), mean=-0.0990990990990991, variance=0.9991809991809992, skewness=0.199178641293541, kurtosis=-1.960327868852459)\n",
      "DescribeResult(nobs=113, minmax=(-1, 1), mean=-0.02654867256637168, variance=1.0082174462705435, skewness=0.053116067384738355, kurtosis=-1.9971786833855798)\n",
      "DescribeResult(nobs=115, minmax=(-1, 1), mean=-0.06086956521739131, variance=1.0050343249427918, skewness=0.12196528714750741, kurtosis=-1.9851244687310257)\n",
      "DescribeResult(nobs=117, minmax=(-1, 1), mean=0.05982905982905983, variance=1.005010315355143, skewness=-0.11987285541887974, kurtosis=-1.9856304985337245)\n",
      "DescribeResult(nobs=119, minmax=(-1, 1), mean=-0.1092436974789916, variance=0.9964392536675687, skewness=0.21980291603667965, kurtosis=-1.9516866781017723)\n",
      "DescribeResult(nobs=121, minmax=(-1, 1), mean=-0.12396694214876033, variance=0.9928374655647381, skewness=0.2498612267447887, kurtosis=-1.9375693673695888)\n",
      "DescribeResult(nobs=123, minmax=(-1, 1), mean=-0.008130081300813009, variance=1.008130081300813, skewness=0.01626070001218594, kurtosis=-1.9997355896351137)\n",
      "DescribeResult(nobs=125, minmax=(-1, 1), mean=-0.104, variance=0.997161290322581, skewness=0.20913407192853073, kurtosis=-1.9562629399585925)\n",
      "DescribeResult(nobs=127, minmax=(-1, 1), mean=0.08661417322834646, variance=1.000374953130859, skewness=-0.17388180629013655, kurtosis=-1.9697651174412798)\n",
      "DescribeResult(nobs=129, minmax=(-1, 1), mean=-0.10077519379844961, variance=0.9975775193798451, skewness=0.20258168595701573, kurtosis=-1.9589606605148133)\n",
      "DescribeResult(nobs=131, minmax=(-1, 1), mean=-0.06870229007633588, variance=1.0029359953024077, skewness=0.13773000775113894, kurtosis=-1.981030444964872)\n",
      "DescribeResult(nobs=133, minmax=(-1, 1), mean=-0.08270676691729323, variance=1.0006835269993162, skewness=0.16598220107795053, kurtosis=-1.9724499089253187)\n",
      "DescribeResult(nobs=135, minmax=(-1, 1), mean=-0.1111111111111111, variance=0.9950248756218908, skewness=0.22360679774997902, kurtosis=-1.9500000000000006)\n",
      "DescribeResult(nobs=137, minmax=(-1, 1), mean=0.08029197080291971, variance=1.0008587376556464, skewness=-0.1611040842267072, kurtosis=-1.9740454740454745)\n",
      "DescribeResult(nobs=139, minmax=(-1, 1), mean=-0.09352517985611511, variance=0.9984360337816703, skewness=0.18787382673022612, kurtosis=-1.9647034252297406)\n",
      "DescribeResult(nobs=141, minmax=(-1, 1), mean=0.07801418439716312, variance=1.0010131712259371, skewness=-0.1565053581367299, kurtosis=-1.9755060728744938)\n",
      "DescribeResult(nobs=143, minmax=(-1, 1), mean=-0.1048951048951049, variance=0.9959617846941792, skewness=0.21095398142362962, kurtosis=-1.9554984177215189)\n",
      "DescribeResult(nobs=145, minmax=(-1, 1), mean=-0.06206896551724138, variance=1.0030651340996168, skewness=0.12437774838512579, kurtosis=-1.9845301757066462)\n",
      "DescribeResult(nobs=147, minmax=(-1, 1), mean=0.08843537414965986, variance=0.9989749324387289, skewness=-0.17756646853014996, kurtosis=-1.9684701492537313)\n",
      "DescribeResult(nobs=149, minmax=(-1, 1), mean=0.06040268456375839, variance=1.0030836205332851, skewness=-0.12102635224824869, kurtosis=-1.9853526220614832)\n",
      "DescribeResult(nobs=151, minmax=(-1, 1), mean=-0.059602649006622516, variance=1.0030905077262695, skewness=0.119417600797712, kurtosis=-1.985739436619719)\n",
      "DescribeResult(nobs=153, minmax=(-1, 1), mean=-0.006535947712418301, variance=1.0065359477124185, skewness=0.013072174640399961, kurtosis=-1.9998291182501717)\n",
      "DescribeResult(nobs=155, minmax=(-1, 1), mean=-0.04516129032258064, variance=1.0044407205697528, skewness=0.09041483013408161, kurtosis=-1.9918251584918252)\n",
      "DescribeResult(nobs=157, minmax=(-1, 1), mean=-0.044585987261146494, variance=1.0044096031357177, skewness=0.08926073982886736, kurtosis=-1.9920325203252032)\n",
      "DescribeResult(nobs=159, minmax=(-1, 1), mean=-0.0440251572327044, variance=1.0043786322745003, skewness=0.08813576890402874, kurtosis=-1.9922320862396958)\n",
      "DescribeResult(nobs=160, minmax=(-1, 1), mean=-0.0875, variance=0.9985849056603772, skewness=0.17567379340107367, kurtosis=-1.969138718312077)\n",
      "DescribeResult(nobs=163, minmax=(-1, 1), mean=-0.07975460122699386, variance=0.9997727789138829, skewness=0.16001893827313254, kurtosis=-1.974393939393939)\n",
      "DescribeResult(nobs=165, minmax=(-1, 1), mean=0.06666666666666667, variance=1.0016260162601625, skewness=-0.13363062095621217, kurtosis=-1.9821428571428568)\n",
      "DescribeResult(nobs=167, minmax=(-1, 1), mean=-0.07784431137724551, variance=0.9999278551331074, skewness=0.156162493533897, kurtosis=-1.975613275613276)\n",
      "DescribeResult(nobs=169, minmax=(-1, 1), mean=-0.07692307692307693, variance=1.0, skewness=0.15430334996209166, kurtosis=-1.976190476190476)\n",
      "DescribeResult(nobs=171, minmax=(-1, 1), mean=-0.029239766081871343, variance=1.0050223598211216, skewness=0.05850454715011347, kurtosis=-1.9965772179627603)\n",
      "DescribeResult(nobs=173, minmax=(-1, 1), mean=-0.05202312138728324, variance=1.0030918134157816, skewness=0.10418732485229064, kurtosis=-1.9891450013401233)\n",
      "DescribeResult(nobs=175, minmax=(-1, 1), mean=-0.08571428571428572, variance=0.9983579638752049, skewness=0.17206180040292127, kurtosis=-1.970394736842105)\n",
      "DescribeResult(nobs=177, minmax=(-1, 1), mean=-0.07344632768361582, variance=1.000256805341551, skewness=0.14729046168267593, kurtosis=-1.978305519897304)\n",
      "DescribeResult(nobs=179, minmax=(-1, 1), mean=-0.07262569832402235, variance=1.0003138534931892, skewness=0.14563598235817185, kurtosis=-1.9787901606425702)\n",
      "DescribeResult(nobs=181, minmax=(-1, 1), mean=-0.06077348066298342, variance=1.0018416206261507, skewness=0.12177204676176302, kurtosis=-1.9851715686274507)\n",
      "DescribeResult(nobs=183, minmax=(-1, 1), mean=0.10382513661202186, variance=0.9946556176064371, skewness=-0.20877860329062112, kurtosis=-1.9564114948080171)\n",
      "DescribeResult(nobs=185, minmax=(-1, 1), mean=-0.08108108108108109, variance=0.9988249118683903, skewness=0.16269784336399234, kurtosis=-1.973529411764706)\n",
      "DescribeResult(nobs=187, minmax=(-1, 1), mean=-0.058823529411764705, variance=1.0018975332068312, skewness=0.11785113019775796, kurtosis=-1.986111111111111)\n",
      "DescribeResult(nobs=189, minmax=(-1, 1), mean=-0.06878306878306878, variance=1.0005628729032985, skewness=0.13789271713960846, kurtosis=-1.9809855985598557)\n",
      "DescribeResult(nobs=191, minmax=(-1, 1), mean=-0.04712041884816754, variance=1.0030311380545607, skewness=0.0943456353049727, kurtosis=-1.9910989010989013)\n",
      "DescribeResult(nobs=193, minmax=(-1, 1), mean=-0.08808290155440414, variance=0.9974093264248706, skewness=0.17685320544750185, kurtosis=-1.9687229437229437)\n",
      "DescribeResult(nobs=195, minmax=(-1, 1), mean=0.015384615384615385, variance=1.0049167327517845, skewness=-0.030772872744832997, kurtosis=-1.999053030303031)\n",
      "DescribeResult(nobs=197, minmax=(-1, 1), mean=-0.08629441624365482, variance=0.997617321040091, skewness=0.17323505481279397, kurtosis=-1.9699896157840078)\n",
      "DescribeResult(nobs=199, minmax=(-1, 1), mean=0.07537688442211055, variance=0.999340135018527, skewness=-0.1511838694207127, kurtosis=-1.977143437626981)\n",
      "DescribeResult(nobs=201, minmax=(-1, 1), mean=-0.0945273631840796, variance=0.9960199004975122, skewness=0.18990507119067696, kurtosis=-1.9639360639360637)\n",
      "DescribeResult(nobs=203, minmax=(-1, 1), mean=0.04433497536945813, variance=1.0029751743647268, skewness=-0.08875722380336556, kurtosis=-1.9921221552227184)\n",
      "DescribeResult(nobs=205, minmax=(-1, 1), mean=0.05365853658536585, variance=1.0020086083213773, skewness=-0.1074719033227676, kurtosis=-1.9884497899961817)\n",
      "DescribeResult(nobs=207, minmax=(-1, 1), mean=-0.07246376811594203, variance=0.9995778809624314, skewness=0.14530954842977417, kurtosis=-1.978885135135135)\n",
      "DescribeResult(nobs=209, minmax=(-1, 1), mean=-0.06220095693779904, variance=1.0009201324990795, skewness=0.12464326739689029, kurtosis=-1.9844640558926268)\n",
      "DescribeResult(nobs=211, minmax=(-1, 1), mean=-0.061611374407582936, variance=1.0009478672985783, skewness=0.12345729116460787, kurtosis=-1.984758297258297)\n",
      "DescribeResult(nobs=213, minmax=(-1, 1), mean=-0.0892018779342723, variance=0.9967224732040038, skewness=0.17911779702619696, kurtosis=-1.9679168147884822)\n",
      "DescribeResult(nobs=215, minmax=(-1, 1), mean=0.05116279069767442, variance=1.002043034123017, skewness=-0.10245977021025916, kurtosis=-1.9895019954884616)\n",
      "DescribeResult(nobs=217, minmax=(-1, 1), mean=0.07834101382488479, variance=0.9984639016897082, skewness=-0.15716505559714833, kurtosis=-1.9752991452991453)\n",
      "DescribeResult(nobs=219, minmax=(-1, 1), mean=-0.0867579908675799, variance=0.9970256796950275, skewness=0.1741727144353602, kurtosis=-1.9696638655462184)\n",
      "DescribeResult(nobs=221, minmax=(-1, 1), mean=-0.06787330316742081, variance=0.999917729329494, skewness=0.13606036856251866, kurtosis=-1.9814875761066317)\n",
      "DescribeResult(nobs=223, minmax=(-1, 1), mean=0.06726457399103139, variance=0.9999596008564622, skewness=-0.13483452474311614, kurtosis=-1.9818196509372985)\n",
      "DescribeResult(nobs=225, minmax=(-1, 1), mean=-0.04888888888888889, variance=1.0020634920634925, skewness=0.09789483814127373, kurtosis=-1.9904166006652944)\n",
      "DescribeResult(nobs=227, minmax=(-1, 1), mean=-0.06607929515418502, variance=1.0000389848348996, skewness=0.13244807213962695, kurtosis=-1.9824575081864966)\n",
      "DescribeResult(nobs=229, minmax=(-1, 1), mean=0.08296943231441048, variance=0.9974718455527465, skewness=-0.16651298598237946, kurtosis=-1.9722734254992316)\n",
      "DescribeResult(nobs=231, minmax=(-1, 1), mean=0.03896103896103896, variance=1.002823263692829, skewness=-0.0779812867365053, kurtosis=-1.9939189189189193)\n",
      "DescribeResult(nobs=233, minmax=(-1, 1), mean=0.02145922746781116, variance=1.0038478614769868, skewness=-0.04292834029074434, kurtosis=-1.998157157599882)\n",
      "DescribeResult(nobs=235, minmax=(-1, 1), mean=-0.04680851063829787, variance=1.0020731042007633, skewness=0.09371974928126194, kurtosis=-1.9912166085946565)\n",
      "DescribeResult(nobs=237, minmax=(-1, 1), mean=0.05485232067510549, variance=1.00121576199671, skewness=-0.10987005311470721, kurtosis=-1.9879285714285706)\n",
      "DescribeResult(nobs=239, minmax=(-1, 1), mean=-0.05439330543933055, variance=1.0012306177701205, skewness=0.10894789861675848, kurtosis=-1.9881303553869922)\n",
      "DescribeResult(nobs=241, minmax=(-1, 1), mean=-0.05394190871369295, variance=1.001244813278008, skewness=0.10804111714939275, kurtosis=-1.9883271170051109)\n",
      "DescribeResult(nobs=243, minmax=(-1, 1), mean=0.02880658436213992, variance=1.0032989830969632, skewness=-0.057637087871483146, kurtosis=-1.9966779661016956)\n",
      "DescribeResult(nobs=245, minmax=(-1, 1), mean=0.004081632653061225, variance=1.0040816326530617, skewness=-0.008163333305850305, kurtosis=-1.9999333599893387)\n",
      "DescribeResult(nobs=247, minmax=(-1, 1), mean=-0.05263157894736842, variance=1.0012836970474965, skewness=0.10540925533894577, kurtosis=-1.9888888888888885)\n",
      "DescribeResult(nobs=249, minmax=(-1, 1), mean=0.05220883534136546, variance=1.0012955045990413, skewness=-0.1045602711552034, kurtosis=-1.9890671496959502)\n",
      "DescribeResult(nobs=251, minmax=(-1, 1), mean=-0.07569721115537849, variance=0.998247011952191, skewness=0.15183004547037177, kurtosis=-1.9769476372924646)\n",
      "DescribeResult(nobs=253, minmax=(-1, 1), mean=-0.08300395256916997, variance=0.9970512579208232, skewness=0.16658274588256117, kurtosis=-1.9722501887742259)\n",
      "DescribeResult(nobs=255, minmax=(-1, 1), mean=-0.03529411764705882, variance=1.0026864289022697, skewness=0.07063224140220181, kurtosis=-1.9950110864745008)\n",
      "DescribeResult(nobs=257, minmax=(-1, 1), mean=-0.05058365758754864, variance=1.0013375486381324, skewness=0.10129699281264005, kurtosis=-1.989738919247116)\n",
      "DescribeResult(nobs=259, minmax=(-1, 1), mean=-0.03474903474903475, variance=1.0026637933614675, skewness=0.069540066835763, kurtosis=-1.9951641791044776)\n",
      "DescribeResult(nobs=261, minmax=(-1, 1), mean=0.0421455938697318, variance=1.002063071028588, skewness=-0.08436614877321079, kurtosis=-1.9928823529411759)\n",
      "DescribeResult(nobs=263, minmax=(-1, 1), mean=0.0038022813688212928, variance=1.0038022813688212, skewness=-0.007604617709126721, kurtosis=-1.999942169789498)\n",
      "DescribeResult(nobs=265, minmax=(-1, 1), mean=0.05660377358490566, variance=1.000571755288736, skewness=-0.11338934190276817, kurtosis=-1.9871428571428567)\n",
      "DescribeResult(nobs=267, minmax=(-1, 1), mean=0.07116104868913857, variance=0.998676466447016, skewness=-0.1426838238360607, kurtosis=-1.9796413264155195)\n",
      "DescribeResult(nobs=269, minmax=(-1, 1), mean=0.07063197026022305, variance=0.9987238528546853, skewness=-0.1416176385749866, kurtosis=-1.9799444444444436)\n",
      "DescribeResult(nobs=271, minmax=(-1, 1), mean=0.055350553505535055, variance=1.0006286729533962, skewness=-0.11087107424795296, kurtosis=-1.987707604895105)\n",
      "DescribeResult(nobs=281, minmax=(-1, 1), mean=-0.08185053380782918, variance=0.9968479918657854, skewness=0.1642521968490122, kurtosis=-1.9730212158302736)\n",
      "DescribeResult(nobs=283, minmax=(-1, 1), mean=-0.06713780918727916, variance=0.9990226298774528, skewness=0.13457926797934958, kurtosis=-1.9818884206301428)\n",
      "DescribeResult(nobs=285, minmax=(-1, 1), mean=-0.06666666666666667, variance=0.9990610328638496, skewness=0.13363062095621217, kurtosis=-1.9821428571428568)\n",
      "DescribeResult(nobs=301, minmax=(-1, 1), mean=0.04318936877076412, variance=1.0014617940199335, skewness=-0.08645941248399223, kurtosis=-1.992524769992923)\n",
      "DescribeResult(nobs=303, minmax=(-1, 1), mean=-0.0627062706270627, variance=0.9993661617817411, skewness=0.12565983662714192, kurtosis=-1.9842096054588398)\n",
      "DescribeResult(nobs=341, minmax=(-1, 1), mean=0.03225806451612903, variance=1.0018975332068312, skewness=-0.06454972243679011, kurtosis=-1.9958333333333331)\n",
      "DescribeResult(nobs=381, minmax=(-1, 1), mean=-0.07086614173228346, variance=0.9975963530874432, skewness=0.14208952003890157, kurtosis=-1.9798105682951146)\n",
      "DescribeResult(nobs=401, minmax=(-1, 1), mean=0.05236907730673317, variance=0.9997506234413968, skewness=-0.10488207396291672, kurtosis=-1.988999750561238)\n",
      "DescribeResult(nobs=448, minmax=(-1, 1), mean=0.04017857142857143, variance=1.0006192074145095, skewness=-0.08042208246767772, kurtosis=-1.9935322886515618)\n"
     ]
    }
   ],
   "source": [
    "from scipy import stats\n",
    "for i in sequences:\n",
    "    print(stats.describe(i))"
   ]
  },
  {
   "cell_type": "code",
   "execution_count": 151,
   "metadata": {},
   "outputs": [],
   "source": [
    "describe_list=[stats.describe(i) for i in sequences]\n",
    "describe=np.array([[i[2],i[3],i[4],i[5]] for i in describe_list])\n",
    "describe=np.concatenate((describe,np.array(score).reshape(-1,1)),axis=1)"
   ]
  },
  {
   "cell_type": "code",
   "execution_count": 162,
   "metadata": {},
   "outputs": [
    {
     "data": {
      "text/plain": [
       "array([-1,  0, -1,  0, -3,  3,  3,  0,  1,  0,  1])"
      ]
     },
     "execution_count": 162,
     "metadata": {},
     "output_type": "execute_result"
    }
   ],
   "source": [
    "from scipy.signal import correlate\n",
    "correlate(sequences[0],sequences[1])"
   ]
  },
  {
   "cell_type": "code",
   "execution_count": 512,
   "metadata": {},
   "outputs": [
    {
     "name": "stdout",
     "output_type": "stream",
     "text": [
      "Train on 90000 samples, validate on 10000 samples\n",
      "Epoch 1/3\n",
      "90000/90000 [==============================] - 205s 2ms/step - loss: 0.2837 - val_loss: 0.2700\n",
      "Epoch 2/3\n",
      "90000/90000 [==============================] - 197s 2ms/step - loss: 0.2613 - val_loss: 0.2580\n",
      "Epoch 3/3\n",
      "90000/90000 [==============================] - 165s 2ms/step - loss: 0.2499 - val_loss: 0.2442\n"
     ]
    },
    {
     "data": {
      "text/plain": [
       "<keras.callbacks.History at 0x7ff8850e4940>"
      ]
     },
     "execution_count": 512,
     "metadata": {},
     "output_type": "execute_result"
    }
   ],
   "source": [
    "from keras.models import Sequential\n",
    "from keras.layers import Dense,Conv1D,Flatten,Dropout,LeakyReLU\n",
    "from keras.layers import LSTM\n",
    "\n",
    "size=20\n",
    "\n",
    "model = Sequential()\n",
    "# model.add(LSTM(8, input_shape=(size, 1),return_sequences=True))\n",
    "# model.add(LSTM(8, return_sequences=True))\n",
    "# model.add(LSTM(8, return_sequences=False))\n",
    "model.add(Dense(128, input_shape=(20,),activation=\"linear\"))\n",
    "model.add(LeakyReLU(0.3))\n",
    "# model.add(Dense(128, activation=\"linear\"))\n",
    "# model.add(LeakyReLU(0.3))\n",
    "# model.add(Dense(128, activation=\"linear\"))\n",
    "# model.add(LeakyReLU(0.3))\n",
    "# model.add(Dense(64, activation=\"selu\"))\n",
    "# model.add(Dropout(0.3))\n",
    "# model.add(Dense(64, activation=\"selu\"))\n",
    "# model.add(Dropout(0.3))\n",
    "# model.add(Conv1D(16,10,padding=\"same\",input_shape=(size, 1),activation=\"elu\"))\n",
    "# model.add(Conv1D(16,5,activation=\"elu\"))\n",
    "# model.add(Conv1D(16,3,activation=\"elu\"))\n",
    "# model.add(Conv1D(16,3,activation=\"elu\"))\n",
    "# model.add(Flatten())\n",
    "model.add(Dense(1,activation=\"linear\"))\n",
    "model.compile(loss='mean_squared_error', optimizer='adam')\n",
    "model.fit(sequences, score, epochs=3, batch_size=1, verbose=1,shuffle=True,validation_split=0.1)"
   ]
  },
  {
   "cell_type": "code",
   "execution_count": 504,
   "metadata": {},
   "outputs": [],
   "source": [
    "f=lambda q :np.where(q<0,1/0.3*q,q)"
   ]
  },
  {
   "cell_type": "code",
   "execution_count": 337,
   "metadata": {},
   "outputs": [
    {
     "data": {
      "text/plain": [
       "'dense_127'"
      ]
     },
     "execution_count": 337,
     "metadata": {},
     "output_type": "execute_result"
    }
   ],
   "source": [
    "model.layers[0].name"
   ]
  },
  {
   "cell_type": "code",
   "execution_count": 521,
   "metadata": {},
   "outputs": [
    {
     "data": {
      "text/plain": [
       "0.5586592178770949"
      ]
     },
     "execution_count": 521,
     "metadata": {},
     "output_type": "execute_result"
    }
   ],
   "source": [
    "input=0.88495575\n",
    "for i,layer in enumerate(model.layers[::-1]):\n",
    "    if \"dense\" in layer.name:\n",
    "        if i==len(model.layers)-1:\n",
    "            input-=layer.get_weights()[1]\n",
    "            input=input.dot(np.linalg.pinv(layer.get_weights()[0]))\n",
    "        elif i==0:\n",
    "            input-=layer.get_weights()[1]\n",
    "            input=input.dot(np.linalg.pinv(layer.get_weights()[0]))\n",
    "            input=f(input)\n",
    "        else:\n",
    "            input-=layer.get_weights()[1]\n",
    "            input=input.dot(np.linalg.pinv(layer.get_weights()[0]))\n",
    "            input=f(input)\n",
    "sequence=[-1 if i<0 else 1 for i in input]\n",
    "merit_factor(sequence)"
   ]
  },
  {
   "cell_type": "code",
   "execution_count": 522,
   "metadata": {},
   "outputs": [
    {
     "name": "stdout",
     "output_type": "stream",
     "text": [
      "[0.08097165991902834, 0.29673590504451036, 0.5586592178770949, 0.6711409395973155, 0.13351134846461948, 0.1941747572815534, 0.6134969325153374, 0.40160642570281124, 0.22371364653243847, 0.1314060446780552]\n"
     ]
    }
   ],
   "source": [
    "w=0\n",
    "score_list=[]\n",
    "while w<5:\n",
    "    input=w\n",
    "    for i,layer in enumerate(model.layers[::-1]):\n",
    "        if \"dense\" in layer.name:\n",
    "            if i==len(model.layers)-1:\n",
    "                input-=layer.get_weights()[1]\n",
    "                input=input.dot(np.linalg.pinv(layer.get_weights()[0]))\n",
    "            elif i==0:\n",
    "                input-=layer.get_weights()[1]\n",
    "                input=input.dot(np.linalg.pinv(layer.get_weights()[0]))\n",
    "                input=f(input)\n",
    "            else:\n",
    "                input-=layer.get_weights()[1]\n",
    "                input=input.dot(np.linalg.pinv(layer.get_weights()[0]))\n",
    "                input=f(input)\n",
    "    sequence=[-1 if i<0 else 1 for i in input]\n",
    "    w+=0.01\n",
    "#     print(w,merit_factor(sequence))\n",
    "    score_list.append(merit_factor(sequence))\n",
    "print(list(set(score_list)))"
   ]
  },
  {
   "cell_type": "code",
   "execution_count": 514,
   "metadata": {},
   "outputs": [
    {
     "data": {
      "text/plain": [
       "[<keras.layers.core.Dense at 0x7ff8850daa58>,\n",
       " <keras.layers.advanced_activations.LeakyReLU at 0x7ff8850daf60>,\n",
       " <keras.layers.core.Dense at 0x7ff88c22dda0>]"
      ]
     },
     "execution_count": 514,
     "metadata": {},
     "output_type": "execute_result"
    }
   ],
   "source": [
    "model.layers"
   ]
  },
  {
   "cell_type": "code",
   "execution_count": 515,
   "metadata": {},
   "outputs": [],
   "source": [
    "A=model.layers[0].get_weights()[0]\n",
    "Ab=model.layers[0].get_weights()[1]\n",
    "B=model.layers[2].get_weights()[0]\n",
    "Bb=model.layers[2].get_weights()[1]\n",
    "\n",
    "Ai=np.linalg.pinv(A)\n",
    "Bi=np.linalg.pinv(B)"
   ]
  },
  {
   "cell_type": "code",
   "execution_count": 345,
   "metadata": {},
   "outputs": [],
   "source": [
    "q=2-Bb.dot(Bi)\n",
    "\n",
    "f=lambda q :np.where(q<0,1/0.3,q)"
   ]
  },
  {
   "cell_type": "code",
   "execution_count": null,
   "metadata": {},
   "outputs": [],
   "source": [
    "O=(I.dot(A)+Ab).dot(B)+Bb"
   ]
  },
  {
   "cell_type": "code",
   "execution_count": 520,
   "metadata": {},
   "outputs": [
    {
     "data": {
      "text/plain": [
       "array([-2.47456625e-01,  7.74909928e-02, -3.00468177e-01, -1.44204125e-04,\n",
       "       -1.48163661e-01,  1.01474233e-01, -8.98353532e-02,  1.09959982e-01,\n",
       "       -2.88428307e-01, -2.34792717e-02, -1.80824697e-01,  1.46080077e-01,\n",
       "       -2.15593144e-01,  2.42028609e-01, -1.14745654e-01,  8.02014768e-02,\n",
       "       -2.43872300e-01, -8.69821850e-03, -3.78004849e-01, -2.47160867e-02],\n",
       "      dtype=float32)"
      ]
     },
     "execution_count": 520,
     "metadata": {},
     "output_type": "execute_result"
    }
   ],
   "source": [
    "q=(f((0.88495575-Bb).dot(Bi))-Ab).dot(Ai)\n",
    "# sequence=[-1 if i<0 else 1 for i in q]\n",
    "# merit_factor(sequence)\n",
    "q"
   ]
  },
  {
   "cell_type": "code",
   "execution_count": 212,
   "metadata": {},
   "outputs": [
    {
     "name": "stdout",
     "output_type": "stream",
     "text": [
      "1.0020149683362118\n"
     ]
    },
    {
     "data": {
      "text/plain": [
       "array([[1.091234]], dtype=float32)"
      ]
     },
     "execution_count": 212,
     "metadata": {},
     "output_type": "execute_result"
    }
   ],
   "source": [
    "a=generate_sequence(int(np.random.rand()*444+5))\n",
    "print(merit_factor(a))\n",
    "a+=[0]*(449-len(a))\n",
    "# a=list(sequences[0])\n",
    "model.predict(np.array(a).reshape(1,size))"
   ]
  },
  {
   "cell_type": "code",
   "execution_count": 120,
   "metadata": {},
   "outputs": [
    {
     "data": {
      "text/plain": [
       "[<tf.Variable 'lstm_19/kernel:0' shape=(1, 32) dtype=float32_ref>,\n",
       " <tf.Variable 'lstm_19/recurrent_kernel:0' shape=(8, 32) dtype=float32_ref>,\n",
       " <tf.Variable 'lstm_19/bias:0' shape=(32,) dtype=float32_ref>]"
      ]
     },
     "execution_count": 120,
     "metadata": {},
     "output_type": "execute_result"
    }
   ],
   "source": [
    "model.layers[0].weights"
   ]
  }
 ],
 "metadata": {
  "kernelspec": {
   "display_name": "Python 3",
   "language": "python",
   "name": "python3"
  },
  "language_info": {
   "codemirror_mode": {
    "name": "ipython",
    "version": 3
   },
   "file_extension": ".py",
   "mimetype": "text/x-python",
   "name": "python",
   "nbconvert_exporter": "python",
   "pygments_lexer": "ipython3",
   "version": "3.5.2"
  }
 },
 "nbformat": 4,
 "nbformat_minor": 2
}
